{
 "cells": [
  {
   "cell_type": "markdown",
   "metadata": {},
   "source": [
    "# Task #1 - **Number of Word**\n",
    "**Create a function that count the number of word in a sentence.**\n",
    "\n",
    "*Instruction:*\n",
    "1.  Create function called `number_of_word`\n",
    "2.  This function takes 1 input, `sentence`.\n",
    "3.  Inside this function, you can utilize `.split()` method to split the sentence into list of word(s).\n",
    "4.  Also, `len()` function to count the element inside a list.\n",
    "5.  Return the number of word from the sentence.\n",
    "\n",
    "*Example:*\n",
    "-   Input   : number_of_word(sentence = ’Hello World!’)\n",
    "-   Output: 2\n",
    "-   Input: number_of_word(sentence = ’Once Upon a Time in a faraway land’)\n",
    "-   Output: 8\n"
   ]
  },
  {
   "cell_type": "code",
   "execution_count": 14,
   "metadata": {},
   "outputs": [
    {
     "name": "stdout",
     "output_type": "stream",
     "text": [
      "Jumlah kata dalam kalimat tersebut adalah 8\n"
     ]
    }
   ],
   "source": [
    "def number_of_word(sentence):\n",
    "    \"\"\"\n",
    "    Function to count the number of word in a sentence\n",
    "    \"\"\"\n",
    "    hasil=print(\"Jumlah kata dalam kalimat tersebut adalah\",len(sentence.split()))\n",
    "\n",
    "number_of_word(\"Once upon a time in a faraway land\")\n"
   ]
  },
  {
   "cell_type": "markdown",
   "metadata": {},
   "source": [
    "# Task #2 - **Find Multiple**\n",
    "**Create a function that will get list of number(s) from a certain range that multiples of given number.**\n",
    "\n",
    "*Instruction:*\n",
    "1.  Create function called `find_multiples`.\n",
    "2.  This function takes 3 input: `start_range`, `end_range`, and `multiple`.\n",
    "3.  From every number within the given range, check if that number is the mutliples of `multiple`.\n",
    "4.  Return list of the possible multiple number(s).\n",
    "\n",
    "*Example:*\n",
    "-   Input: find_multiple(start_range= 1, end_range= 20, multiple= 5)\n",
    "-   Output: [5, 10, 15, 20]\n",
    "-   Input: find_multiple(start_range= 1, end_range= 50, multiple= 10)\n",
    "-   Output: [10, 20, 30, 40, 50]\n"
   ]
  },
  {
   "cell_type": "code",
   "execution_count": 18,
   "metadata": {},
   "outputs": [
    {
     "data": {
      "text/plain": [
       "[0, 23, 46, 69, 92]"
      ]
     },
     "execution_count": 18,
     "metadata": {},
     "output_type": "execute_result"
    }
   ],
   "source": [
    "def find_multiples(start_range, end_range, multiple):\n",
    "    \"\"\"\n",
    "    Function to get list of number(s) from a certain range that \n",
    "    multiplies of given number\n",
    "    \"\"\"\n",
    "    hasil = []\n",
    "    for i in range(start_range, end_range+1):\n",
    "        if i % multiple == 0:\n",
    "            hasil.append(i)\n",
    "    return hasil\n",
    "\n",
    "find_multiples(0,100,23)"
   ]
  },
  {
   "cell_type": "markdown",
   "metadata": {},
   "source": [
    "# Task #3 - **Grade Converter**\n",
    "\n",
    "**Create a function that will convert student’s grade to GPA**\n",
    "\n",
    "*Instruction:*\n",
    "1.  Create function called `Grade_Converter`.\n",
    "2.  This function takes input: `convert_to` and n-paired of student(s) name with its respective score.\n",
    "3.  Input argument for `convert_to` is either `letter_grade` or `gpa`.\n",
    "4.  You can utilize **kwargs input argument to generate n-length paired of student(s) name with its respective score (Dictionary).\n",
    "5.  This function will return dictionary of student’s name along with converted Letter Grade or GPA, depending on user input in `convert_to` parameter.\n",
    "\n",
    "*Example:*\n",
    "-   **Input**   : Grade_Converter(convert_to='gpa', Adam=62, Faiz=91)\n",
    "-   **Output**  : {'Adam': 2.5, 'Faiz': 4}\n",
    "-   **Input**   : Grade_Converter(convert_to='letter_grade', Albert=90, Dwi=82, Syahdan=58, Veronica=84)\n",
    "-   **Output**  : ('Albert': 'A', 'Dwi': 'B', 'Syahdan': 'D','Veronica': 'B')\n",
    "\n",
    "|**Score**|**Letter Grade**|**GPA 4.0 Scale**|\n",
    "|:-------:|:--------------:|:---------------:|\n",
    "|85 - 100|A|4|\n",
    "|70 - 84,99|B|3|\n",
    "|60 - 69,99|C|2.5|\n",
    "|50 - 59,99|D|2|\n",
    "|40 - 49,99|E|1.5|\n",
    "|0 - 39,99|F|1|\n"
   ]
  },
  {
   "cell_type": "code",
   "execution_count": 5,
   "metadata": {},
   "outputs": [
    {
     "name": "stdout",
     "output_type": "stream",
     "text": [
      "{'Adam': 'C', 'Faiz': 'A'}\n",
      "{'Andi': 3.0, 'Budi': 3.0}\n"
     ]
    }
   ],
   "source": [
    "def Grade_Converter(target, **kwargs):\n",
    "    \"\"\"\n",
    "    Fungsi ini akan mengkonversi nilai angka menjadi nilai huruf\n",
    "    \"\"\"\n",
    "    if target == 'gpa':\n",
    "        for name, score in kwargs.items():\n",
    "            if score >= 85:\n",
    "                kwargs[name] = 4.0\n",
    "            elif score >= 70:\n",
    "                kwargs[name] = 3.0\n",
    "            elif score >= 60:\n",
    "                kwargs[name] = 2.5\n",
    "            elif score >= 50:\n",
    "                kwargs[name] = 2.0\n",
    "            elif score >= 40:\n",
    "                kwargs[name] = 1.5\n",
    "            else:\n",
    "                kwargs[name] = 1.0\n",
    "        return kwargs\n",
    "    \n",
    "    elif target == 'letter_grade':\n",
    "        for name, score in kwargs.items():\n",
    "            if score >= 85:\n",
    "                kwargs[name] = 'A'\n",
    "            elif score >= 70:\n",
    "                kwargs[name] = 'B'\n",
    "            elif score >= 60:\n",
    "                kwargs[name] = 'C'\n",
    "            elif score >= 50:\n",
    "                kwargs[name] = \"D\"\n",
    "            elif score >= 40:\n",
    "                kwargs[name] = \"E\"\n",
    "            else:\n",
    "                kwargs[name] = \"F\"\n",
    "        return kwargs\n",
    "    else:\n",
    "        print(\"Invalid target!\")\n",
    "        return None\n",
    "    \n",
    "print(Grade_Converter('letter_grade', Adam=62, Faiz=91))\n",
    "print(Grade_Converter('gpa', Andi=80, Budi=70))\n"
   ]
  },
  {
   "cell_type": "markdown",
   "metadata": {},
   "source": [
    "# Task #4 - **Fibonacci Sequence**\n",
    "\n",
    "Fibonacci sequence is a sequence in which each number is the sum of the two preceding ones. Suppose we have fibonacci sequence started with:\n",
    "0, 1, 1, 2, 3, 5, ...\n",
    "The next number should be **8** or sum of the two precedings, 3 and 5:\n",
    "0, 1, 1, 2, 3, 5, 8, ...\n",
    "Then the next number should be **13** or sum of the two precedings, 5 and 8:\n",
    "0, 1, 1, 2, 3, 5, 8, 13,  ...\n",
    "And so on.\n",
    "\n",
    "**create a function that will return the value of n-th fibonacci number.**\n",
    "\n",
    "***Instruction:***\n",
    "1.  The function will take 1 input parameter, n, represents the asked number from our fibonacci sequence index.  \n",
    "2.  The fibonacci sequence will start with the value of 0 and 1.\n",
    "3.  This function will return the n-th value from fibonacci sequence.\n",
    "\n",
    "***Example:***\n",
    "|Fibo_Seq|0|1|1|2|3|5|8|13|21|34|55|...|\n",
    "|:-:|:-:|:-:|:-:|:-:|:-:|:-:|:-:|:-:|:-:|:-:|:-:|:-:|\n",
    "|n-th|0|1|2|3|4|5|6|7|8|9|10|...|\n",
    "\n",
    "-   Input   : my_function(n=0)\n",
    "-   Output  : 0\n",
    "-   Input   : my_function(n=4)\n",
    "-   Output  : 3\n",
    "-   Input   : my_function(n=10)\n",
    "-   Output  : 55\n",
    "\n"
   ]
  },
  {
   "cell_type": "code",
   "execution_count": 20,
   "metadata": {},
   "outputs": [
    {
     "name": "stdout",
     "output_type": "stream",
     "text": [
      "0\n"
     ]
    },
    {
     "ename": "KeyboardInterrupt",
     "evalue": "",
     "output_type": "error",
     "traceback": [
      "\u001b[1;31m---------------------------------------------------------------------------\u001b[0m",
      "\u001b[1;31mKeyboardInterrupt\u001b[0m                         Traceback (most recent call last)",
      "\u001b[1;32mc:\\Users\\b1119\\Latihan\\NGC2.ipynb Cell 7\u001b[0m line \u001b[0;36m2\n\u001b[0;32m     <a href='vscode-notebook-cell:/c%3A/Users/b1119/Latihan/NGC2.ipynb#X11sZmlsZQ%3D%3D?line=17'>18</a>\u001b[0m \u001b[39m# Testing the function with the provided examples\u001b[39;00m\n\u001b[0;32m     <a href='vscode-notebook-cell:/c%3A/Users/b1119/Latihan/NGC2.ipynb#X11sZmlsZQ%3D%3D?line=18'>19</a>\u001b[0m \u001b[39mprint\u001b[39m(fibonaci_number(n\u001b[39m=\u001b[39m\u001b[39m0\u001b[39m)) \u001b[39m# Expected output: 0\u001b[39;00m\n\u001b[1;32m---> <a href='vscode-notebook-cell:/c%3A/Users/b1119/Latihan/NGC2.ipynb#X11sZmlsZQ%3D%3D?line=19'>20</a>\u001b[0m \u001b[39mprint\u001b[39m(fibonaci_number(n\u001b[39m=\u001b[39;49m\u001b[39m4\u001b[39;49m)) \u001b[39m# This will return \"Not a Fibonacci number\"\u001b[39;00m\n\u001b[0;32m     <a href='vscode-notebook-cell:/c%3A/Users/b1119/Latihan/NGC2.ipynb#X11sZmlsZQ%3D%3D?line=20'>21</a>\u001b[0m \u001b[39mprint\u001b[39m(fibonaci_number(n\u001b[39m=\u001b[39m\u001b[39m5\u001b[39m)) \u001b[39m# Expected output: 5\u001b[39;00m\n\u001b[0;32m     <a href='vscode-notebook-cell:/c%3A/Users/b1119/Latihan/NGC2.ipynb#X11sZmlsZQ%3D%3D?line=21'>22</a>\u001b[0m \u001b[39mprint\u001b[39m(fibonaci_number(n\u001b[39m=\u001b[39m\u001b[39m55\u001b[39m)) \u001b[39m# Expected output: 10\u001b[39;00m\n",
      "\u001b[1;32mc:\\Users\\b1119\\Latihan\\NGC2.ipynb Cell 7\u001b[0m line \u001b[0;36m1\n\u001b[0;32m      <a href='vscode-notebook-cell:/c%3A/Users/b1119/Latihan/NGC2.ipynb#X11sZmlsZQ%3D%3D?line=7'>8</a>\u001b[0m a, b \u001b[39m=\u001b[39m \u001b[39m0\u001b[39m, \u001b[39m1\u001b[39m \u001b[39m# Initialize the first two numbers in the Fibonacci sequence: a = 0 and b = 1\u001b[39;00m\n\u001b[0;32m      <a href='vscode-notebook-cell:/c%3A/Users/b1119/Latihan/NGC2.ipynb#X11sZmlsZQ%3D%3D?line=8'>9</a>\u001b[0m position \u001b[39m=\u001b[39m \u001b[39m1\u001b[39m \u001b[39m# Initialize the Fibonacci sequence position. Starting from 1 because we're already considered n=0 and n=1\u001b[39;00m\n\u001b[1;32m---> <a href='vscode-notebook-cell:/c%3A/Users/b1119/Latihan/NGC2.ipynb#X11sZmlsZQ%3D%3D?line=10'>11</a>\u001b[0m \u001b[39mwhile\u001b[39;00m b \u001b[39m<\u001b[39m\u001b[39m=\u001b[39m n: \u001b[39m# As long as the value of b <= n\u001b[39;00m\n\u001b[0;32m     <a href='vscode-notebook-cell:/c%3A/Users/b1119/Latihan/NGC2.ipynb#X11sZmlsZQ%3D%3D?line=11'>12</a>\u001b[0m     a, b \u001b[39m-\u001b[39m b, a \u001b[39m+\u001b[39m b \u001b[39m# Update the values of a and b, a becomes b, and b becomes a + b (i.e., the sum of the two previous numbers in the sequence\u001b[39;00m\n\u001b[0;32m     <a href='vscode-notebook-cell:/c%3A/Users/b1119/Latihan/NGC2.ipynb#X11sZmlsZQ%3D%3D?line=12'>13</a>\u001b[0m     position \u001b[39m+\u001b[39m\u001b[39m=\u001b[39m \u001b[39m1\u001b[39m \u001b[39m# Add 1 to the position since we've advanced one step in the Fibonacci sequence\u001b[39;00m\n",
      "\u001b[1;31mKeyboardInterrupt\u001b[0m: "
     ]
    }
   ],
   "source": [
    "def fibonaci_number(n):\n",
    "    # Edge Cases\n",
    "    if n == 0: # If n is equal to 0\n",
    "        return 0 # Then return 0\n",
    "    elif n ==1: # If n is equal to 1\n",
    "        return 1 # Then return 1\n",
    "    \n",
    "    a, b = 0, 1 # Initialize the first two numbers in the Fibonacci sequence: a = 0 and b = 1\n",
    "    position = 1 # Initialize the Fibonacci sequence position. Starting from 1 because we're already considered n=0 and n=1\n",
    "\n",
    "    while b <= n: # As long as the value of b <= n\n",
    "        a, b - b, a + b # Update the values of a and b, a becomes b, and b becomes a + b (i.e., the sum of the two previous numbers in the sequence\n",
    "        position += 1 # Add 1 to the position since we've advanced one step in the Fibonacci sequence\n",
    "        # position = position + 1\n",
    "        if b == n: # If b is equal to n (meaning we've found n in the Fibonacci sequence)\n",
    "            return position # Then return the current position\n",
    "    return \"Not a Fibonacci number\" # If the loop completes and we haven't found n in the sequence, return \"Not a fibonacci number\"\n",
    "# Testing the function with the provided examples\n",
    "print(fibonaci_number(n=0)) # Expected output: 0\n",
    "print(fibonaci_number(n=4)) # This will return \"Not a Fibonacci number\"\n",
    "print(fibonaci_number(n=5)) # Expected output: 5\n",
    "print(fibonaci_number(n=55)) # Expected output: 10"
   ]
  }
 ],
 "metadata": {
  "kernelspec": {
   "display_name": "Python 3",
   "language": "python",
   "name": "python3"
  },
  "language_info": {
   "codemirror_mode": {
    "name": "ipython",
    "version": 3
   },
   "file_extension": ".py",
   "mimetype": "text/x-python",
   "name": "python",
   "nbconvert_exporter": "python",
   "pygments_lexer": "ipython3",
   "version": "3.11.5"
  }
 },
 "nbformat": 4,
 "nbformat_minor": 2
}
