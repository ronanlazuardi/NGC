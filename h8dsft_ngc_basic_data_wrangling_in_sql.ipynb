{
 "cells": [
  {
   "cell_type": "code",
   "execution_count": null,
   "metadata": {
    "vscode": {
     "languageId": "sql"
    }
   },
   "outputs": [],
   "source": [
    "BEGIN;\n",
    "\n",
    "CREATE TABLE Customers (\n",
    "customer_id SERIAL PRIMARY KEY,\n",
    "customer_name VARCHAR(100),\n",
    "city VARCHAR(100));\n",
    "\n",
    "CREATE TABLE Orders (\n",
    "order_id SERIAL PRIMARY KEY,\n",
    "customer_id INT,\n",
    "order_date DATE,\n",
    "total_amount FLOAT);\n",
    "\n",
    "INSERT INTO Customers (customer_name, city)\n",
    "VALUES\n",
    "\t('John Doe', 'New York'),\n",
    "\t('Jane Smith', 'Los Angeles'),\n",
    "\t('David Johnson', 'Chicago');\n",
    "\t\n",
    "INSERT INTO Orders (customer_id, order_date, total_amount)\n",
    "VALUES\n",
    "\t(1, '2022-01-10', 100),\n",
    "\t(1, '2022-02-15', 150),\n",
    "\t(2, '2022-03-20', 200),\n",
    "\t(3, '2022-04-25', 50);\n",
    "\n",
    "COMMIT;\n",
    "\n",
    "SELECT * FROM Customers;\n",
    "SELECT * FROM Orders;\n",
    "\n",
    "SELECT Customers.customer_name, COUNT(Orders.order_id) AS total_orders\n",
    "FROM Customers\n",
    "LEFT JOIN Orders ON Customers.customer_id = Orders.customer_id\n",
    "GROUP BY Customers.customer_name\n",
    "\n",
    "CREATE USER user6 WITH PASSWORD '1234';\n",
    "CREATE USER user7 WITH PASSWORD '1234';\n",
    "\n",
    "GRANT ALL PRIVILEGES ON Customers TO user6;\n",
    "GRANT SELECT ON Customers TO user7;\n",
    "GRANT INSERT ON Customers TO user7;\n",
    "GRANT UPDATE ON Customers TO user7;\n",
    "REVOKE SELECT ON Customers FROM user6;\n",
    "REVOKE SELECT ON Customers FROM user7;\n",
    "\n",
    "\n"
   ]
  }
 ],
 "metadata": {
  "language_info": {
   "name": "python"
  }
 },
 "nbformat": 4,
 "nbformat_minor": 2
}
