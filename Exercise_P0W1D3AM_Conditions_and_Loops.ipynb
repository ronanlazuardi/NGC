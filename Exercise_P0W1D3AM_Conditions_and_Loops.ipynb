{
  "nbformat": 4,
  "nbformat_minor": 0,
  "metadata": {
    "colab": {
      "provenance": []
    },
    "kernelspec": {
      "name": "python3",
      "display_name": "Python 3"
    },
    "language_info": {
      "name": "python"
    }
  },
  "cells": [
    {
      "cell_type": "markdown",
      "source": [
        "#JAWABAN 1"
      ],
      "metadata": {
        "id": "rCnrCtUcE7p0"
      }
    },
    {
      "cell_type": "code",
      "source": [
        "for i in range(1,10):\n",
        "  print(int(str(i)*i))"
      ],
      "metadata": {
        "id": "XctWHf66_VIY",
        "outputId": "375290a5-fc0b-4b94-df12-7a96a28f1239",
        "colab": {
          "base_uri": "https://localhost:8080/"
        }
      },
      "execution_count": null,
      "outputs": [
        {
          "output_type": "stream",
          "name": "stdout",
          "text": [
            "1\n",
            "22\n",
            "333\n",
            "4444\n",
            "55555\n",
            "666666\n",
            "7777777\n",
            "88888888\n",
            "999999999\n"
          ]
        }
      ]
    },
    {
      "cell_type": "markdown",
      "source": [
        "#JAWABAN 2"
      ],
      "metadata": {
        "id": "Ac-xQ3uXE-jO"
      }
    },
    {
      "cell_type": "code",
      "source": [
        "valid = False\n",
        "tanda = ['$', '#', \"@\"]\n",
        "while not False:\n",
        "    password = input(\"Enter a password: \")\n",
        "\n",
        "    if len(password) < 6 or len(password) > 16:\n",
        "      print(\"Password must be between 6 and 16 characters.\")\n",
        "    elif not any(chr.isdigit() for chr in password):\n",
        "      print('Password must contain at least one digit.')\n",
        "    elif not any(chr.isupper() for chr in password):\n",
        "      print('Password must contain at least one uppercase')\n",
        "    elif not any(chr.islower() for chr in password):\n",
        "      print('Password must contain at least one lowercase')\n",
        "    elif not any(chr in tanda for chr in password):\n",
        "      print('Password must contain at least one of the characters $, #, or @.')\n",
        "    else:\n",
        "        valid = True\n",
        "        print(\"Password is valid.\")\n",
        "        break"
      ],
      "metadata": {
        "colab": {
          "base_uri": "https://localhost:8080/"
        },
        "id": "xoh4A8gaFAIj",
        "outputId": "884de043-06a8-4da5-d32d-109118585299"
      },
      "execution_count": 1,
      "outputs": [
        {
          "output_type": "stream",
          "name": "stdout",
          "text": [
            "Enter a password: asdf\n",
            "Password must be between 6 and 16 characters.\n",
            "Enter a password: asdfhgjgjgkgkgkg\n",
            "Password must contain at least one digit.\n",
            "Enter a password: aaaaaaaaaaaaaaaaaaaaaaa\n",
            "Password must be between 6 and 16 characters.\n",
            "Enter a password: asdddddd1\n",
            "Password must contain at least one uppercase\n",
            "Enter a password: AAAAAAAAAAAA1\n",
            "Password must contain at least one lowercase\n",
            "Enter a password: AAAAAAA1a\n",
            "Password must contain at least one of the characters $, #, or @.\n",
            "Enter a password: aaaaa12SD%\n",
            "Password must contain at least one of the characters $, #, or @.\n",
            "Enter a password: aaaa23SD$\n",
            "Password is valid.\n"
          ]
        }
      ]
    }
  ]
}